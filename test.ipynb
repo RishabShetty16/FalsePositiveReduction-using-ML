{
 "cells": [
  {
   "cell_type": "code",
   "execution_count": 1,
   "id": "189db4b6-9ab6-4670-bd88-4fd1e4a43f36",
   "metadata": {},
   "outputs": [],
   "source": [
    "import pandas as pd"
   ]
  },
  {
   "cell_type": "code",
   "execution_count": 2,
   "id": "24debc1a-b7ca-459d-a73d-a5db61199b81",
   "metadata": {},
   "outputs": [],
   "source": [
    "df49 = pd.read_csv(\"ctu13_extended/scenario49/capture20110816-3.binetflow\")"
   ]
  },
  {
   "cell_type": "code",
   "execution_count": 3,
   "id": "339fb90b-9501-459f-b48a-f691e684acdb",
   "metadata": {},
   "outputs": [
    {
     "name": "stdout",
     "output_type": "stream",
     "text": [
      "Test Data Shape: (2954230, 15)\n"
     ]
    }
   ],
   "source": [
    "print(\"Test Data Shape:\", df49.shape)"
   ]
  },
  {
   "cell_type": "code",
   "execution_count": 4,
   "id": "33cfa547-ffe9-41e5-ac80-fcd2ebfdacf7",
   "metadata": {},
   "outputs": [],
   "source": [
    "df49.dropna(inplace=True)\n",
    "df49['Label'] = df49['Label'].str.strip().str.lower()"
   ]
  },
  {
   "cell_type": "code",
   "execution_count": 5,
   "id": "2c715609-a46d-4653-92ef-eb642d3ed034",
   "metadata": {},
   "outputs": [],
   "source": [
    "def label_binary(label):\n",
    "    if 'botnet' in label:\n",
    "        return 'Malicious'\n",
    "    else:\n",
    "        return 'Benign'"
   ]
  },
  {
   "cell_type": "code",
   "execution_count": 6,
   "id": "5d47f5ea-7f90-4e17-880f-93d7a52e5b86",
   "metadata": {},
   "outputs": [],
   "source": [
    "df49['BinaryLabel'] = df49['Label'].apply(label_binary)\n",
    "df49['BinaryLabelEncoded'] = df49['BinaryLabel'].map({'Benign': 0, 'Malicious': 1})"
   ]
  },
  {
   "cell_type": "code",
   "execution_count": 7,
   "id": "d4efa769-cee8-4925-a051-41971c6ac0ab",
   "metadata": {},
   "outputs": [],
   "source": [
    "df49 = df49.drop(columns=['StartTime', 'SrcAddr', 'DstAddr', 'Dir', 'Label', 'BinaryLabel'])"
   ]
  },
  {
   "cell_type": "code",
   "execution_count": 8,
   "id": "6c5504f4-1ca8-44b4-8a06-ca444739abb4",
   "metadata": {},
   "outputs": [],
   "source": [
    "from sklearn.preprocessing import LabelEncoder\n",
    "proto_encoder = LabelEncoder()\n",
    "state_encoder = LabelEncoder()"
   ]
  },
  {
   "cell_type": "code",
   "execution_count": 9,
   "id": "9966b18c-af25-4d54-ac2b-7bdecb69db49",
   "metadata": {},
   "outputs": [],
   "source": [
    "df49['Proto'] = proto_encoder.fit_transform(df49['Proto'])\n",
    "df49['State'] = state_encoder.fit_transform(df49['State'])"
   ]
  },
  {
   "cell_type": "code",
   "execution_count": 10,
   "id": "023893d1-11f4-4b4e-929c-70b1ff4f9184",
   "metadata": {},
   "outputs": [],
   "source": [
    "df49['Sport'] = pd.to_numeric(df49['Sport'], errors='coerce')\n",
    "df49['Dport'] = pd.to_numeric(df49['Dport'], errors='coerce')\n",
    "df49.dropna(subset=['Sport','Dport'], inplace=True)\n",
    "df49['Sport'] = df49['Sport'].astype(int)\n",
    "df49['Dport'] = df49['Dport'].astype(int)"
   ]
  },
  {
   "cell_type": "code",
   "execution_count": 11,
   "id": "a5890950-35bd-4262-94de-78d0c7761b13",
   "metadata": {},
   "outputs": [],
   "source": [
    "X_test_new = df49.drop(columns=['BinaryLabelEncoded'])\n",
    "Y_test_new = df49['BinaryLabelEncoded']"
   ]
  },
  {
   "cell_type": "code",
   "execution_count": 12,
   "id": "5d8a274c-fe58-4f87-a548-75c4795ad3dd",
   "metadata": {},
   "outputs": [],
   "source": [
    "import joblib\n",
    "rf_model = joblib.load(\"rf_ids_model.pkl\")\n",
    "scaler = joblib.load(\"scaler.pkl\")"
   ]
  },
  {
   "cell_type": "code",
   "execution_count": 13,
   "id": "9c680d9e-c3d4-43a0-a5af-44d826ae4278",
   "metadata": {},
   "outputs": [],
   "source": [
    "X_test_new_scaled = scaler.transform(X_test_new)\n",
    "Y_pred_new = rf_model.predict(X_test_new_scaled)"
   ]
  },
  {
   "cell_type": "code",
   "execution_count": 14,
   "id": "bf74c13f-6245-43c3-91fc-621f773ec8d0",
   "metadata": {},
   "outputs": [],
   "source": [
    "from sklearn.metrics import confusion_matrix, classification_report, accuracy_score\n",
    "import seaborn as sns\n",
    "import matplotlib.pyplot as plt"
   ]
  },
  {
   "cell_type": "code",
   "execution_count": 15,
   "id": "146ee171-cdd6-433c-ac70-22968d77cee7",
   "metadata": {},
   "outputs": [
    {
     "name": "stdout",
     "output_type": "stream",
     "text": [
      "ACCURACY: 0.9988467675871558\n"
     ]
    }
   ],
   "source": [
    "acc = accuracy_score(Y_test_new, Y_pred_new)\n",
    "print(\"ACCURACY:\", acc)"
   ]
  },
  {
   "cell_type": "code",
   "execution_count": 16,
   "id": "67689afd-dab9-4811-b2c4-a66244a43dec",
   "metadata": {},
   "outputs": [
    {
     "name": "stdout",
     "output_type": "stream",
     "text": [
      "CONFUSION MATRIX:\n",
      " [[2762879    1845]\n",
      " [   1345      69]]\n"
     ]
    }
   ],
   "source": [
    "cm = confusion_matrix(Y_test_new, Y_pred_new)\n",
    "print(\"CONFUSION MATRIX:\\n\", cm)"
   ]
  },
  {
   "cell_type": "code",
   "execution_count": 17,
   "id": "48b03d16-2f15-451c-be37-148147d24bdb",
   "metadata": {},
   "outputs": [
    {
     "data": {
      "image/png": "[encoded data removed]",
      "text/plain": [
       "<Figure size 600x400 with 2 Axes>"
      ]
     },
     "metadata": {},
     "output_type": "display_data"
    }
   ],
   "source": [
    "plt.figure(figsize=(6, 4))\n",
    "sns.heatmap(cm, annot=True, fmt=\"d\", cmap=\"Blues\", xticklabels=[\"Benign\", \"Malicious\"], yticklabels=[\"Benign\", \"Malicious\"])\n",
    "plt.xlabel(\"Predicted\")\n",
    "plt.ylabel(\"Actual\")\n",
    "plt.title(\"Confusion Matrix\")\n",
    "plt.tight_layout()\n",
    "plt.show()"
   ]
  },
  {
   "cell_type": "code",
   "execution_count": 18,
   "id": "04133232-a6aa-43da-9d8e-d764a3b3df4f",
   "metadata": {},
   "outputs": [
    {
     "name": "stdout",
     "output_type": "stream",
     "text": [
      "CLASSIFICATION REPORT:\n",
      "               precision    recall  f1-score   support\n",
      "\n",
      "      Benign       1.00      1.00      1.00   2764724\n",
      "   Malicious       0.04      0.05      0.04      1414\n",
      "\n",
      "    accuracy                           1.00   2766138\n",
      "   macro avg       0.52      0.52      0.52   2766138\n",
      "weighted avg       1.00      1.00      1.00   2766138\n",
      "\n"
     ]
    }
   ],
   "source": [
    "print(\"CLASSIFICATION REPORT:\\n\", classification_report(Y_test_new, Y_pred_new, target_names=[\"Benign\", \"Malicious\"]))"
   ]
  },
  {
   "cell_type": "code",
   "execution_count": 19,
   "id": "1faab340-7b5a-45e7-8181-81bd61ac5a98",
   "metadata": {},
   "outputs": [
    {
     "name": "stdout",
     "output_type": "stream",
     "text": [
      "True Positives: 69\n",
      "True Negatives: 2762879\n",
      "False Positives: 1845\n",
      "False Negatives: 1345\n"
     ]
    }
   ],
   "source": [
    "import numpy as np\n",
    "\n",
    "false_positives = np.sum((Y_pred_new == 1) & (Y_test_new == 0))\n",
    "false_negatives = np.sum((Y_pred_new == 0) & (Y_test_new == 1))\n",
    "true_positives = np.sum((Y_pred_new == 1) & (Y_test_new == 1))\n",
    "true_negatives = np.sum((Y_pred_new == 0) & (Y_test_new == 0))\n",
    "\n",
    "print(\"True Positives:\", true_positives)\n",
    "print(\"True Negatives:\", true_negatives)\n",
    "print(\"False Positives:\", false_positives)\n",
    "print(\"False Negatives:\", false_negatives)"
   ]
  },
  {
   "cell_type": "code",
   "execution_count": null,
   "id": "e6bb0d3e-2a1a-4c09-be74-97f037421deb",
   "metadata": {},
   "outputs": [],
   "source": []
  }
 ],
 "metadata": {
  "kernelspec": {
   "display_name": "Python 3 (ipykernel)",
   "language": "python",
   "name": "python3"
  },
  "language_info": {
   "codemirror_mode": {
    "name": "ipython",
    "version": 3
   },
   "file_extension": ".py",
   "mimetype": "text/x-python",
   "name": "python",
   "nbconvert_exporter": "python",
   "pygments_lexer": "ipython3",
   "version": "3.10.12"
  }
 },
 "nbformat": 4,
 "nbformat_minor": 5
}
